{
  "nbformat": 4,
  "nbformat_minor": 0,
  "metadata": {
    "colab": {
      "provenance": []
    },
    "kernelspec": {
      "name": "python3",
      "display_name": "Python 3"
    },
    "language_info": {
      "name": "python"
    }
  },
  "cells": [
    {
      "cell_type": "markdown",
      "source": [
        "1. Use a python code to display the following star pattern using the for loop\n"
      ],
      "metadata": {
        "id": "uV6-NuD9CMC3"
      }
    },
    {
      "cell_type": "code",
      "source": [
        "def display_star_pattern(n):\n",
        "    # Upper part of the pattern\n",
        "    for i in range(1, n + 1):\n",
        "        print('* ' * i)\n",
        "    # Lower part of the pattern\n",
        "    for i in range(n - 1, 0, -1):\n",
        "        print('* ' * i)\n",
        "\n",
        "# Specify the number of rows for the pattern\n",
        "num_rows = 5\n",
        "display_star_pattern(num_rows)\n"
      ],
      "metadata": {
        "colab": {
          "base_uri": "https://localhost:8080/"
        },
        "id": "9nRCpGoFCOS5",
        "outputId": "356e5e41-3fbf-44f4-c739-9f1b25cf7230"
      },
      "execution_count": 1,
      "outputs": [
        {
          "output_type": "stream",
          "name": "stdout",
          "text": [
            "* \n",
            "* * \n",
            "* * * \n",
            "* * * * \n",
            "* * * * * \n",
            "* * * * \n",
            "* * * \n",
            "* * \n",
            "* \n"
          ]
        }
      ]
    },
    {
      "cell_type": "markdown",
      "source": [
        "2. Use looping to output the elements from a provided list present at odd indexes.\n",
        "my_list = [10, 20, 30, 40, 50, 60, 70, 80, 90, 100]\n"
      ],
      "metadata": {
        "id": "4Owsf-KKDkpP"
      }
    },
    {
      "cell_type": "code",
      "source": [
        "# Given list\n",
        "my_list = [10, 20, 30, 40, 50, 60, 70, 80, 90, 100]\n",
        "\n",
        "# Loop through the list and print elements at odd indexes\n",
        "for i in range(1, len(my_list), 2):\n",
        "    print(my_list[i])\n"
      ],
      "metadata": {
        "colab": {
          "base_uri": "https://localhost:8080/"
        },
        "id": "CJM-oaTJDlAX",
        "outputId": "924b67f9-a05d-4758-d680-3a3b3f2efce3"
      },
      "execution_count": 2,
      "outputs": [
        {
          "output_type": "stream",
          "name": "stdout",
          "text": [
            "20\n",
            "40\n",
            "60\n",
            "80\n",
            "100\n"
          ]
        }
      ]
    },
    {
      "cell_type": "markdown",
      "source": [
        "3. Write a code that appends the type of elements from a given list.\n",
        "Input\n",
        "x = [23, ‘Python’, 23.98]\n",
        "Expected output\n",
        "[23, 'Python', 23.98]\n",
        "[<class 'int'>, <class 'str'>, <class 'float'>]"
      ],
      "metadata": {
        "id": "pZVIf2K8D50p"
      }
    },
    {
      "cell_type": "code",
      "source": [
        "# Given list\n",
        "x = [23, 'Python', 23.98]\n",
        "\n",
        "# List to store the types of elements\n",
        "types_list = [type(element) for element in x]\n",
        "\n",
        "# Print the original list\n",
        "print(x)\n",
        "\n",
        "# Print the list of types\n",
        "print(types_list)\n"
      ],
      "metadata": {
        "colab": {
          "base_uri": "https://localhost:8080/"
        },
        "id": "rwbYF7IiD5Gx",
        "outputId": "86f1c069-e019-4477-aa50-5c6e3903c1a6"
      },
      "execution_count": 3,
      "outputs": [
        {
          "output_type": "stream",
          "name": "stdout",
          "text": [
            "[23, 'Python', 23.98]\n",
            "[<class 'int'>, <class 'str'>, <class 'float'>]\n"
          ]
        }
      ]
    },
    {
      "cell_type": "markdown",
      "source": [
        "4. Write a function that takes a list and returns a new list with unique items of the first list.\n",
        "Sample List: [1,2,3,3,3,3,4,5]\n",
        "Unique List: [1, 2, 3, 4, 5]"
      ],
      "metadata": {
        "id": "E3yimYmkEF3Z"
      }
    },
    {
      "cell_type": "code",
      "source": [
        "def get_unique_items(input_list):\n",
        "    # Using a set to store unique items\n",
        "    unique_items = list(set(input_list))\n",
        "    return unique_items\n",
        "\n",
        "# Sample list\n",
        "sample_list = [1, 2, 3, 3, 3, 3, 4, 5]\n",
        "\n",
        "# Get the unique items\n",
        "unique_list = get_unique_items(sample_list)\n",
        "\n",
        "# Print the unique list\n",
        "print(\"Sample List:\", sample_list)\n",
        "print(\"Unique List:\", unique_list)\n"
      ],
      "metadata": {
        "colab": {
          "base_uri": "https://localhost:8080/"
        },
        "id": "hfo3mRPIEGJ-",
        "outputId": "bddd24dd-487c-4636-a856-659e3bed92a5"
      },
      "execution_count": 4,
      "outputs": [
        {
          "output_type": "stream",
          "name": "stdout",
          "text": [
            "Sample List: [1, 2, 3, 3, 3, 3, 4, 5]\n",
            "Unique List: [1, 2, 3, 4, 5]\n"
          ]
        }
      ]
    },
    {
      "cell_type": "markdown",
      "source": [
        "5. Write a function that accepts a string and calculate the number of upper-case letters and lower-case\n",
        "letters.\n",
        "Input String: 'The quick Brow Fox'\n",
        "Expected Output:\n",
        "No. of Upper-case characters: 3\n",
        "No. of Lower-case Characters: 12"
      ],
      "metadata": {
        "id": "RkMP1d_vEUvq"
      }
    },
    {
      "cell_type": "code",
      "source": [
        "def count_case_characters(input_string):\n",
        "    upper_case_count = 0\n",
        "    lower_case_count = 0\n",
        "\n",
        "    for char in input_string:\n",
        "        if char.isupper():\n",
        "            upper_case_count += 1\n",
        "        elif char.islower():\n",
        "            lower_case_count += 1\n",
        "\n",
        "    return upper_case_count, lower_case_count\n",
        "\n",
        "# Input string\n",
        "input_string = 'The quick Brow Fox'\n",
        "\n",
        "# Get the counts of upper-case and lower-case characters\n",
        "upper_case_count, lower_case_count = count_case_characters(input_string)\n",
        "\n",
        "# Print the results\n",
        "print(f\"No. of Upper-case characters: {upper_case_count}\")\n",
        "print(f\"No. of Lower-case characters: {lower_case_count}\")\n"
      ],
      "metadata": {
        "colab": {
          "base_uri": "https://localhost:8080/"
        },
        "id": "VGSzd_RREVQG",
        "outputId": "2affddbc-68fd-4bb5-db02-0b91637a4368"
      },
      "execution_count": 5,
      "outputs": [
        {
          "output_type": "stream",
          "name": "stdout",
          "text": [
            "No. of Upper-case characters: 3\n",
            "No. of Lower-case characters: 12\n"
          ]
        }
      ]
    }
  ]
}